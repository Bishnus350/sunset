{
 "cells": [
  {
   "cell_type": "code",
   "execution_count": 300,
   "metadata": {},
   "outputs": [
    {
     "data": {
      "text/plain": [
       "2459528.5"
      ]
     },
     "execution_count": 300,
     "metadata": {},
     "output_type": "execute_result"
    }
   ],
   "source": [
    "# for Julian date for 11 Nov 2021 at 11:49 AM Taiwan time\n",
    "# if months are january and february then year'=year-1 , month'=month+12, else year = year and month = month\n",
    "import math\n",
    "import numpy as np\n",
    "import datetime\n",
    "import time\n",
    "year=2021  #year of observation\n",
    "month=11   #months of observation\n",
    "day=10     #date of observation\n",
    "A=math.trunc(year/100) # The day is later to 15 october 1582. So\n",
    "B=2-A+(A/4)\n",
    "C=math.trunc(365.25 * year) # year is +ve. so,\n",
    "D=math.trunc(30.6001*(11+1))  \n",
    "jd=B+C+D+day+1720994.5\n",
    "jd #2459528.88229 from https://www.aavso.org/jd-calculator #2459528.8822916667"
   ]
  },
  {
   "cell_type": "code",
   "execution_count": 301,
   "metadata": {},
   "outputs": [
    {
     "data": {
      "text/plain": [
       "7983.5"
      ]
     },
     "execution_count": 301,
     "metadata": {},
     "output_type": "execute_result"
    }
   ],
   "source": [
    "J2000=jd-2451545.0\n",
    "J2000"
   ]
  },
  {
   "cell_type": "code",
   "execution_count": 302,
   "metadata": {},
   "outputs": [
    {
     "name": "stdout",
     "output_type": "stream",
     "text": [
      "Julian date= 2459528.5\n"
     ]
    }
   ],
   "source": [
    "#definition method\n",
    "year=2021\n",
    "months=11\n",
    "day=10\n",
    "def date_to_jd(year,month,day):\n",
    "    # Algorithm from 'Practical Astronomy with your Calculator or Spreadsheet', \n",
    "    # 4th ed., Duffet-Smith and Zwart, 2011.\n",
    "    if month == 1 or month == 2:\n",
    "        yearp = year - 1\n",
    "        monthp = month + 12\n",
    "    else:\n",
    "        yearp = year\n",
    "        monthp = month\n",
    "    # this checks where we are in relation to October 15, 1582, the beginning\n",
    "    # of the Gregorian calendar.\n",
    "    if ((year < 1582) or\n",
    "        (year == 1582 and month < 10) or\n",
    "        (year == 1582 and month == 10 and day < 15)):\n",
    "        # before start of Gregorian calendar\n",
    "        B = 0\n",
    "    else:\n",
    "        # after start of Gregorian calendar\n",
    "        A = math.trunc(yearp / 100.)\n",
    "        B = 2 - A + math.trunc(A / 4.)\n",
    "\n",
    "    if yearp < 0:\n",
    "        C = math.trunc((365.25 * yearp) - 0.75)\n",
    "    else:\n",
    "        C = math.trunc(365.25 * yearp)\n",
    "    D = math.trunc(30.6001 * (monthp + 1))\n",
    "    jd = B + C + D + day + 1720994.5\n",
    "    return jd \n",
    "jd=date_to_jd(year,month,day)\n",
    "print(\"Julian date=\",jd)"
   ]
  },
  {
   "cell_type": "code",
   "execution_count": 303,
   "metadata": {
    "scrolled": true
   },
   "outputs": [
    {
     "name": "stdout",
     "output_type": "stream",
     "text": [
      "------------------------------\n",
      "------------------------------\n",
      "Latitude =  24.9718 decimal degree\n",
      "Longitude = 121.1903 decimal degree\n",
      "Timezone =  8.0\n",
      "------------------------------\n",
      "Sunset is at  17:11 PM\n",
      "------------------------------\n"
     ]
    }
   ],
   "source": [
    "latitude_deg =24.9718 #24deg 58' 25.333\"\n",
    "longitude_deg =121.1903 # 121deg 11' 25.333\"\n",
    "timezone = 8.0 \n",
    "pi=3.14159265359\n",
    "\n",
    "latitude_radians = math.radians(latitude_deg)\n",
    "longitude__radians = math.radians(longitude_deg)\n",
    "\n",
    "jd2000 = 2451545 #the julian date for Jan 1 2000 at noon\n",
    "\n",
    "currentDT = 2021\n",
    "current_year = 2021\n",
    "current_month = 11\n",
    "current_day = 10\n",
    "\n",
    "jd_now = date_to_jd(current_year,current_month,current_day)\n",
    "\n",
    "n = jd_now - jd2000 + 0.0008  #0.0008 is the fractional Julian Day for leap seconds and terrestrial time\n",
    "\n",
    "jstar = n - longitude_deg/360 # Mean solar time\n",
    "\n",
    "M_deg = (357.5291 + 0.98560028 * jstar)%360  # Solar mean anomaly\n",
    "M = M_deg * pi/180\n",
    "\n",
    "C = 1.9148 * math.sin(M) + 0.0200 * math.sin(2*M) + 0.0003 * math.sin(3*M) # Equation of the center\n",
    "\n",
    "lamda_deg = math.fmod(M_deg + C + 180 + 102.9372,360) # Ecliptic longitude\n",
    "\n",
    "\n",
    "lamda = lamda_deg * pi/180\n",
    "\n",
    "                    \n",
    "\n",
    "earth_tilt_deg = 23.44  #Tilt angle of Earth\n",
    "earth_tilt_rad = math.radians(earth_tilt_deg)\n",
    "\n",
    "sin_delta = math.sin(lamda) * math.sin(earth_tilt_rad)  #Declination of the Sun\n",
    "angle_delta = math.asin(sin_delta)\n",
    "\n",
    "sun_disc_deg =  -0.83\n",
    "sun_disc_rad = math.radians(sun_disc_deg)\n",
    "\n",
    "cos_omega = (math.sin(sun_disc_rad) - math.sin(latitude_radians) * math.sin(angle_delta))/(math.cos(latitude_radians) * math.cos(angle_delta))\n",
    " # Hour angle \n",
    "omega_radians = math.acos(cos_omega)\n",
    "omega_degrees = math.degrees(omega_radians)\n",
    "\n",
    "#Output section\n",
    "print(\"------------------------------\")\n",
    "#print(\"Today's date is \" + currentDT.strftime(\"%Y-%m-%d\"))\n",
    "print(\"------------------------------\")\n",
    "#(\"%Y-%m-%d %H:%M\")\n",
    "\n",
    "print(\"Latitude =  \" + str(latitude_deg),\"decimal degree\")\n",
    "print(\"Longitude = \" + str(longitude_deg),\"decimal degree\")\n",
    "print(\"Timezone =  \" + str(timezone))\n",
    "print(\"------------------------------\")\n",
    "Jset = Jtransit + omega_degrees/360\n",
    "numdays = Jset - jd2000\n",
    "numdays =  numdays + 0.5 #offset because Julian dates start at noon\n",
    "numdays =  numdays + timezone/24 #offset for time zone\n",
    "sunset = datetime.datetime(2000, 1, 1) + datetime.timedelta(numdays)\n",
    "print(\"Sunset is at  \" + sunset.strftime(\"%H:%M\"),\"PM\")\n",
    "print(\"------------------------------\")"
   ]
  },
  {
   "cell_type": "code",
   "execution_count": 304,
   "metadata": {},
   "outputs": [
    {
     "name": "stdout",
     "output_type": "stream",
     "text": [
      "Decimal hour= 15.103569444444444\n",
      "Decimal degree 226.55354166666666\n"
     ]
    }
   ],
   "source": [
    "# Conversion of hour min sec to decimal hour 15h 6 min 12.85sec\n",
    "h=15\n",
    "m=6\n",
    "s=12.85\n",
    "decimalhour=h+m/60+s/3600\n",
    "print(\"Decimal hour=\",decimalhour)\n",
    "#decimal hour into degree\n",
    "print(\"Decimal degree\",decimalhour*15)\n"
   ]
  },
  {
   "cell_type": "code",
   "execution_count": 305,
   "metadata": {},
   "outputs": [
    {
     "name": "stdout",
     "output_type": "stream",
     "text": [
      "Decimal degree= 121.19037027777779\n"
     ]
    }
   ],
   "source": [
    "# Conversion of degree min sec to decimal degree 121deg 11' 25.333\"\n",
    "x=121 #deg\n",
    "y=11  #min\n",
    "z=25.333 #sec\n",
    "decimaldegree=x+y/60+z/3600\n",
    "print(\"Decimal degree=\",decimaldegree)"
   ]
  },
  {
   "cell_type": "code",
   "execution_count": null,
   "metadata": {},
   "outputs": [],
   "source": [
    "\n"
   ]
  },
  {
   "cell_type": "code",
   "execution_count": null,
   "metadata": {},
   "outputs": [],
   "source": []
  },
  {
   "cell_type": "code",
   "execution_count": null,
   "metadata": {},
   "outputs": [],
   "source": []
  },
  {
   "cell_type": "code",
   "execution_count": null,
   "metadata": {},
   "outputs": [],
   "source": []
  }
 ],
 "metadata": {
  "kernelspec": {
   "display_name": "Python 3",
   "language": "python",
   "name": "python3"
  },
  "language_info": {
   "codemirror_mode": {
    "name": "ipython",
    "version": 3
   },
   "file_extension": ".py",
   "mimetype": "text/x-python",
   "name": "python",
   "nbconvert_exporter": "python",
   "pygments_lexer": "ipython3",
   "version": "3.8.5"
  }
 },
 "nbformat": 4,
 "nbformat_minor": 4
}
