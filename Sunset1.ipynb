{
 "cells": [
  {
   "cell_type": "code",
   "execution_count": 1,
   "metadata": {},
   "outputs": [
    {
     "data": {
      "text/plain": [
       "2459528.5"
      ]
     },
     "execution_count": 1,
     "metadata": {},
     "output_type": "execute_result"
    }
   ],
   "source": [
    "# for Julian date for 11 Nov 2021 at 11:49 AM Taiwan time\n",
    "# if months are january and february then year'=year-1 , month'=month+12, else year = year and month = month\n",
    "import math\n",
    "import numpy as np\n",
    "import datetime\n",
    "import time\n",
    "year=2021  #year of observation\n",
    "month=11   #months of observation\n",
    "day=10     #date of observation\n",
    "A=math.trunc(year/100) # The day is later to 15 october 1582. So\n",
    "B=2-A+(A/4)\n",
    "C=math.trunc(365.25 * year) # year is +ve. so,\n",
    "D=math.trunc(30.6001*(11+1))  \n",
    "jd=B+C+D+day+1720994.5\n",
    "jd #2459528.88229 from https://www.aavso.org/jd-calculator #2459528.8822916667"
   ]
  },
  {
   "cell_type": "code",
   "execution_count": 2,
   "metadata": {},
   "outputs": [
    {
     "data": {
      "text/plain": [
       "7983.5008"
      ]
     },
     "execution_count": 2,
     "metadata": {},
     "output_type": "execute_result"
    }
   ],
   "source": [
    "jd2000 = 2451545 #the julian date for Jan 1 2000 at noon\n",
    "J2000real=2451545.5 # 2451545.0  this is julian date as per J2000 number of days\n",
    "J2000=jd-2451545.0+0.0008 \n",
    "J2000"
   ]
  },
  {
   "cell_type": "code",
   "execution_count": 3,
   "metadata": {},
   "outputs": [],
   "source": [
    "lat_deg =24.9718 #24deg 58' 25.333\" Of observing sites\n",
    "long_deg =121.1903 # 121deg 11' 25.333\" of observing sites\n",
    "timezone = 8.0 #Time zone of Tiawan\n",
    "lat_rad=math.radians(lat_deg)\n",
    "long_rad=math.radians(long_deg)\n",
    "pi=3.14159265359"
   ]
  },
  {
   "cell_type": "code",
   "execution_count": 4,
   "metadata": {},
   "outputs": [
    {
     "name": "stdout",
     "output_type": "stream",
     "text": [
      "Decimal hour= 15.103569444444444\n",
      "Decimal degree 226.55354166666666\n"
     ]
    }
   ],
   "source": [
    "# Conversion of hour min sec to decimal hour 15h 6 min 12.85sec\n",
    "h=15\n",
    "m=6\n",
    "s=12.85\n",
    "decimalhour=h+m/60+s/3600\n",
    "print(\"Decimal hour=\",decimalhour)\n",
    "#decimal hour into degree\n",
    "print(\"Decimal degree\",decimalhour*15)"
   ]
  },
  {
   "cell_type": "code",
   "execution_count": 5,
   "metadata": {},
   "outputs": [
    {
     "name": "stdout",
     "output_type": "stream",
     "text": [
      "Decimal degree= 121.19037027777779\n"
     ]
    }
   ],
   "source": [
    "# Conversion of degree min sec to decimal degree 121deg 11' 25.333\"\n",
    "x=121 #deg\n",
    "y=11  #min\n",
    "z=25.333 #sec\n",
    "decimaldegree=x+y/60+z/3600\n",
    "print(\"Decimal degree=\",decimaldegree)"
   ]
  },
  {
   "cell_type": "code",
   "execution_count": 6,
   "metadata": {},
   "outputs": [],
   "source": [
    "# Parameters\n",
    "#Mean solar time\n",
    "lw= 121.19\n",
    "Jstar= J2000-lw/360 "
   ]
  },
  {
   "cell_type": "code",
   "execution_count": 7,
   "metadata": {},
   "outputs": [
    {
     "data": {
      "text/plain": [
       "7983.164161111111"
      ]
     },
     "execution_count": 7,
     "metadata": {},
     "output_type": "execute_result"
    }
   ],
   "source": [
    "Jstar"
   ]
  },
  {
   "cell_type": "code",
   "execution_count": 12,
   "metadata": {},
   "outputs": [
    {
     "data": {
      "text/plain": [
       "5.336133569965069"
      ]
     },
     "execution_count": 12,
     "metadata": {},
     "output_type": "execute_result"
    }
   ],
   "source": [
    "#Solar mean anamoly\n",
    "Mdeg= (357.5291+ 0.98560028*Jstar)%360\n",
    "M=Mdeg*m.pi/180 #change to radian\n",
    "M"
   ]
  },
  {
   "cell_type": "code",
   "execution_count": 13,
   "metadata": {},
   "outputs": [
    {
     "data": {
      "text/plain": [
       "-1.573290028683235"
      ]
     },
     "execution_count": 13,
     "metadata": {},
     "output_type": "execute_result"
    }
   ],
   "source": [
    "#Equation of the centre is used to calculate ecliptic longitude\n",
    "import math as m\n",
    "C= 1.9148 *m.sin(M)+ 0.0200* m.sin(2*M)+ 0.0003 * m.sin (3*M)\n",
    "C"
   ]
  },
  {
   "cell_type": "code",
   "execution_count": 14,
   "metadata": {},
   "outputs": [
    {
     "data": {
      "text/plain": [
       "227.10184244839218"
      ]
     },
     "execution_count": 14,
     "metadata": {},
     "output_type": "execute_result"
    }
   ],
   "source": [
    "#Ecliptic longitude\n",
    "lamda= (Mdeg+C+180+102.9372)%360\n",
    "lamda"
   ]
  },
  {
   "cell_type": "code",
   "execution_count": 15,
   "metadata": {},
   "outputs": [
    {
     "data": {
      "text/plain": [
       "3.963674888069864"
      ]
     },
     "execution_count": 15,
     "metadata": {},
     "output_type": "execute_result"
    }
   ],
   "source": [
    "lamdarad=lamda*m.pi/180  # Convert to radian\n",
    "lamdarad"
   ]
  },
  {
   "cell_type": "code",
   "execution_count": 16,
   "metadata": {},
   "outputs": [
    {
     "data": {
      "text/plain": [
       "2459528.65297768"
      ]
     },
     "execution_count": 16,
     "metadata": {},
     "output_type": "execute_result"
    }
   ],
   "source": [
    "#Solar transit  is the Julian date for the local true solar transit (or solar noon).\n",
    "import math as m\n",
    "Jtransit=J2000real+Jstar+ 0.0053*math.sin(M)-0.0069*m.sin(2*lamdarad)\n",
    "Jtransit"
   ]
  },
  {
   "cell_type": "code",
   "execution_count": 17,
   "metadata": {},
   "outputs": [
    {
     "data": {
      "text/plain": [
       "-0.2955387915012134"
      ]
     },
     "execution_count": 17,
     "metadata": {},
     "output_type": "execute_result"
    }
   ],
   "source": [
    "#Declination of the sun\n",
    "declination=m.asin(m.sin(227.07*m.pi/180)* m.sin(23.44*m.pi/180)) # 23.44 degree is Earth's maximum axial tilt toward the sun "
   ]
  },
  {
   "cell_type": "code",
   "execution_count": 18,
   "metadata": {},
   "outputs": [
    {
     "data": {
      "text/plain": [
       "-16.933125435416333"
      ]
     },
     "execution_count": 18,
     "metadata": {},
     "output_type": "execute_result"
    }
   ],
   "source": [
    "declinationreal=declination*180/m.pi  #change to degree\n",
    "declinationreal"
   ]
  },
  {
   "cell_type": "code",
   "execution_count": 19,
   "metadata": {},
   "outputs": [
    {
     "data": {
      "text/plain": [
       "0.1273015163325868"
      ]
     },
     "execution_count": 19,
     "metadata": {},
     "output_type": "execute_result"
    }
   ],
   "source": [
    "#Hour angle\n",
    " #north latitude of the observer\n",
    "sundisk=-0.83\n",
    "sundiskradian= sundisk*m.pi/180\n",
    "cosomega=(m.sin(sundiskradian)-(m.sin(lat_rad)*m.sin(declination) )/(m.cos(lat_rad)*m.cos(declination)))\n",
    "cosomega"
   ]
  },
  {
   "cell_type": "code",
   "execution_count": 20,
   "metadata": {},
   "outputs": [
    {
     "data": {
      "text/plain": [
       "82.68631505496697"
      ]
     },
     "execution_count": 20,
     "metadata": {},
     "output_type": "execute_result"
    }
   ],
   "source": [
    "# Hour angle \n",
    "omega_radians = math.acos(cosomega)\n",
    "omega_degrees = math.degrees(omega_radians)\n",
    "#omega_radians\n",
    "omega_degrees "
   ]
  },
  {
   "cell_type": "code",
   "execution_count": 21,
   "metadata": {},
   "outputs": [
    {
     "data": {
      "text/plain": [
       "2459528.8826618884"
      ]
     },
     "execution_count": 21,
     "metadata": {},
     "output_type": "execute_result"
    }
   ],
   "source": [
    "Jset=Jtransit+(omega_degrees/360)\n",
    "Jset #is the actual Julian date of sunset."
   ]
  },
  {
   "cell_type": "code",
   "execution_count": 32,
   "metadata": {},
   "outputs": [
    {
     "data": {
      "text/plain": [
       "2459529.715995222"
      ]
     },
     "execution_count": 32,
     "metadata": {},
     "output_type": "execute_result"
    }
   ],
   "source": [
    "numberofdays= Jset#\n",
    "numberofdays=numberofdays+0.5 #julian date start at noon so affing half days\n",
    "numberofdays=numberofdays + timezone/24#Offset time  need to be added\n",
    "numberofdays  # these number of days from J2000 1/ 1/ 2021"
   ]
  },
  {
   "cell_type": "code",
   "execution_count": 33,
   "metadata": {},
   "outputs": [
    {
     "data": {
      "text/plain": [
       "datetime.timedelta(days=2459529, seconds=61861, microseconds=987169)"
      ]
     },
     "execution_count": 33,
     "metadata": {},
     "output_type": "execute_result"
    }
   ],
   "source": [
    "datetime.timedelta(numberofdays) "
   ]
  },
  {
   "cell_type": "code",
   "execution_count": 34,
   "metadata": {},
   "outputs": [
    {
     "data": {
      "text/plain": [
       "datetime.datetime(2000, 1, 1, 0, 0)"
      ]
     },
     "execution_count": 34,
     "metadata": {},
     "output_type": "execute_result"
    }
   ],
   "source": [
    " datetime.datetime(2000, 1, 1) #Julian date time"
   ]
  },
  {
   "cell_type": "code",
   "execution_count": 35,
   "metadata": {},
   "outputs": [
    {
     "name": "stdout",
     "output_type": "stream",
     "text": [
      "The Sunset time of November 10, 2021 at Taiwan is at  17:11 PM\n"
     ]
    }
   ],
   "source": [
    "sunset = datetime.datetime(2000, 1, 1) + datetime.timedelta(numberofdays)\n",
    "print(\"The Sunset time of November 10, 2021 at Taiwan is at  \" + sunset.strftime(\"%H:%M\"),\"PM\")"
   ]
  },
  {
   "cell_type": "code",
   "execution_count": 24,
   "metadata": {},
   "outputs": [],
   "source": [
    "# The sunset time is 17:11 PM as per my calculation which is comparatively the near value which i observed."
   ]
  },
  {
   "cell_type": "code",
   "execution_count": 25,
   "metadata": {},
   "outputs": [],
   "source": [
    "#https://www.programiz.com/python-programming/datetime/strftime. I used this python module \n",
    "#to to convert date, time and\n",
    "#datetime objects to its equivalent string"
   ]
  },
  {
   "cell_type": "code",
   "execution_count": null,
   "metadata": {},
   "outputs": [],
   "source": []
  },
  {
   "cell_type": "code",
   "execution_count": null,
   "metadata": {},
   "outputs": [],
   "source": []
  },
  {
   "cell_type": "code",
   "execution_count": null,
   "metadata": {},
   "outputs": [],
   "source": []
  },
  {
   "cell_type": "code",
   "execution_count": null,
   "metadata": {},
   "outputs": [],
   "source": []
  },
  {
   "cell_type": "code",
   "execution_count": null,
   "metadata": {},
   "outputs": [],
   "source": []
  }
 ],
 "metadata": {
  "kernelspec": {
   "display_name": "Python 3 (ipykernel)",
   "language": "python",
   "name": "python3"
  },
  "language_info": {
   "codemirror_mode": {
    "name": "ipython",
    "version": 3
   },
   "file_extension": ".py",
   "mimetype": "text/x-python",
   "name": "python",
   "nbconvert_exporter": "python",
   "pygments_lexer": "ipython3",
   "version": "3.7.6"
  }
 },
 "nbformat": 4,
 "nbformat_minor": 4
}
